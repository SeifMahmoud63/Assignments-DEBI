{
 "cells": [
  {
   "cell_type": "code",
   "execution_count": 3,
   "id": "2da141c7-3d1c-4164-b5f0-b0acbcc3ca82",
   "metadata": {},
   "outputs": [
    {
     "data": {
      "text/plain": [
       "'\\n# Example Input:\\ntext = \"Hello World\"\\n# Expected Output:\\n3\\n'"
      ]
     },
     "execution_count": 3,
     "metadata": {},
     "output_type": "execute_result"
    }
   ],
   "source": [
    "\"\"\"\n",
    "# Example Input:\n",
    "text = \"Hello World\"\n",
    "# Expected Output:\n",
    "3\n",
    "\"\"\""
   ]
  },
  {
   "cell_type": "code",
   "execution_count": 5,
   "id": "feafe78e-7a5b-4f6e-9074-ba592a651202",
   "metadata": {},
   "outputs": [
    {
     "name": "stdin",
     "output_type": "stream",
     "text": [
      "what is the name ? seif\n"
     ]
    },
    {
     "name": "stdout",
     "output_type": "stream",
     "text": [
      "Numbers of V is  2\n"
     ]
    }
   ],
   "source": [
    "def countvowels(word):\n",
    "    word=word.lower()\n",
    "    count=0\n",
    "    vowels=\"aoieu\"\n",
    "    for i in word:\n",
    "        if i in vowels:\n",
    "         count+=1\n",
    "    print(\"Numbers of V is \", count) \n",
    "name=input(\"what is the name ?\")\n",
    "countvowels(name)"
   ]
  },
  {
   "cell_type": "code",
   "execution_count": 7,
   "id": "7ba03ca3-7453-46ce-9663-205d1401fd13",
   "metadata": {},
   "outputs": [
    {
     "data": {
      "text/plain": [
       "'\\n# Example Input:\\nnumbers = [3, 5, 2, 8, 1]\\n# Expected Output:\\n8\\n'"
      ]
     },
     "execution_count": 7,
     "metadata": {},
     "output_type": "execute_result"
    }
   ],
   "source": [
    "\"\"\"\n",
    "# Example Input:\n",
    "numbers = [3, 5, 2, 8, 1]\n",
    "# Expected Output:\n",
    "8\n",
    "\"\"\""
   ]
  },
  {
   "cell_type": "code",
   "execution_count": null,
   "id": "fe4c974d-a96e-4354-9dd1-1af5783f3388",
   "metadata": {},
   "outputs": [],
   "source": [
    "def getmax(num):\n",
    "    maxN = num[0] \n",
    "    for i in num:\n",
    "        if i > maxN:\n",
    "            maxN = i \n",
    "    print(\"MAX IS\", maxN)\n",
    "myl = []\n",
    "while True:\n",
    "    try:\n",
    "        numofcom = int(input(\"How many numbers do you want to compare? \"))\n",
    "        break\n",
    "    except ValueError:\n",
    "        print(\"Please enter a number, not a string.\")\n",
    "for i in range(numofcom):\n",
    "    while True:\n",
    "        try:\n",
    "            val = int(input(f\"Please enter number {i + 1}: \"))\n",
    "            myl.append(val)\n",
    "            break\n",
    "        except ValueError:\n",
    "            print(\"Please enter a valid integer.\")\n",
    "getmax(myl)"
   ]
  }
 ],
 "metadata": {
  "kernelspec": {
   "display_name": "Python 3 (ipykernel)",
   "language": "python",
   "name": "python3"
  },
  "language_info": {
   "codemirror_mode": {
    "name": "ipython",
    "version": 3
   },
   "file_extension": ".py",
   "mimetype": "text/x-python",
   "name": "python",
   "nbconvert_exporter": "python",
   "pygments_lexer": "ipython3",
   "version": "3.12.7"
  }
 },
 "nbformat": 4,
 "nbformat_minor": 5
}
